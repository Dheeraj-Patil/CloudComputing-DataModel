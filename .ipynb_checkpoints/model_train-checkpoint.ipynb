{
 "cells": [
  {
   "cell_type": "code",
   "execution_count": 2,
   "id": "bca95a5e",
   "metadata": {},
   "outputs": [],
   "source": [
    "import random\n",
    "import sys\n",
    "import numpy as np\n",
    "import pandas as pd"
   ]
  },
  {
   "cell_type": "code",
   "execution_count": 4,
   "id": "2c76abae",
   "metadata": {},
   "outputs": [],
   "source": [
    "from pyspark.sql import SparkSession"
   ]
  },
  {
   "cell_type": "code",
   "execution_count": 5,
   "id": "d36d077b",
   "metadata": {},
   "outputs": [],
   "source": [
    "from pyspark.sql.types import IntegerType, DoubleType"
   ]
  },
  {
   "cell_type": "code",
   "execution_count": 6,
   "id": "972c52ca",
   "metadata": {},
   "outputs": [],
   "source": [
    "from pyspark.sql.functions import col, desc\n",
    "from pyspark.ml.feature import VectorAssembler\n",
    "from pyspark.ml.classification import MultilayerPerceptronClassifier\n",
    "from pyspark.ml.evaluation import MulticlassClassificationEvaluator"
   ]
  },
  {
   "cell_type": "code",
   "execution_count": 7,
   "id": "118b9e47",
   "metadata": {},
   "outputs": [],
   "source": [
    "spark = SparkSession.builder.appName(\"modtrain\").getOrCreate()"
   ]
  },
  {
   "cell_type": "code",
   "execution_count": 8,
   "id": "76f0b129",
   "metadata": {},
   "outputs": [
    {
     "data": {
      "text/html": [
       "\n",
       "            <div>\n",
       "                <p><b>SparkSession - in-memory</b></p>\n",
       "                \n",
       "        <div>\n",
       "            <p><b>SparkContext</b></p>\n",
       "\n",
       "            <p><a href=\"http://Dheeraj-Patil.fios-router.home:4040\">Spark UI</a></p>\n",
       "\n",
       "            <dl>\n",
       "              <dt>Version</dt>\n",
       "                <dd><code>v3.2.2</code></dd>\n",
       "              <dt>Master</dt>\n",
       "                <dd><code>local[*]</code></dd>\n",
       "              <dt>AppName</dt>\n",
       "                <dd><code>modtrain</code></dd>\n",
       "            </dl>\n",
       "        </div>\n",
       "        \n",
       "            </div>\n",
       "        "
      ],
      "text/plain": [
       "<pyspark.sql.session.SparkSession at 0x1639b723a30>"
      ]
     },
     "execution_count": 8,
     "metadata": {},
     "output_type": "execute_result"
    }
   ],
   "source": [
    "spark"
   ]
  },
  {
   "cell_type": "code",
   "execution_count": 11,
   "id": "35ab832e",
   "metadata": {},
   "outputs": [
    {
     "name": "stdout",
     "output_type": "stream",
     "text": [
      "Reading data from TrainingDataset.csv...\n"
     ]
    }
   ],
   "source": [
    "print(\"Reading data from {}...\".format(\"TrainingDataset.csv\"))\n",
    "training = spark.read.format(\"csv\").load(\"TrainingDataset.csv\", header=True, sep=\";\")"
   ]
  },
  {
   "cell_type": "code",
   "execution_count": 12,
   "id": "f69e75ee",
   "metadata": {},
   "outputs": [],
   "source": [
    "training = training.toDF(\"fixed_acidity\", \"volatile_acidity\", \"citric_acid\", \"residual_sugar\", \"chlorides\", \"free_sulfur_dioxide\", \"total_sulfur_dioxide\", \"density\", \"pH\", \"sulphates\", \"alcohol\", \"label\")"
   ]
  },
  {
   "cell_type": "code",
   "execution_count": 13,
   "id": "c6c8d7f7",
   "metadata": {},
   "outputs": [],
   "source": [
    "training = training \\\n",
    "        .withColumn(\"fixed_acidity\", col(\"fixed_acidity\").cast(DoubleType())) \\\n",
    "        .withColumn(\"volatile_acidity\", col(\"volatile_acidity\").cast(DoubleType())) \\\n",
    "        .withColumn(\"citric_acid\", col(\"citric_acid\").cast(DoubleType())) \\\n",
    "        .withColumn(\"residual_sugar\", col(\"residual_sugar\").cast(DoubleType())) \\\n",
    "        .withColumn(\"chlorides\", col(\"chlorides\").cast(DoubleType())) \\\n",
    "        .withColumn(\"free_sulfur_dioxide\", col(\"free_sulfur_dioxide\").cast(IntegerType())) \\\n",
    "        .withColumn(\"total_sulfur_dioxide\", col(\"total_sulfur_dioxide\").cast(IntegerType())) \\\n",
    "        .withColumn(\"density\", col(\"density\").cast(DoubleType())) \\\n",
    "        .withColumn(\"pH\", col(\"pH\").cast(DoubleType())) \\\n",
    "        .withColumn(\"sulphates\", col(\"sulphates\").cast(DoubleType())) \\\n",
    "        .withColumn(\"alcohol\", col(\"alcohol\").cast(DoubleType())) \\\n",
    "        .withColumn(\"label\", col(\"label\").cast(IntegerType()))"
   ]
  },
  {
   "cell_type": "code",
   "execution_count": 14,
   "id": "8bc7fed3",
   "metadata": {},
   "outputs": [],
   "source": [
    "features = training.columns"
   ]
  },
  {
   "cell_type": "code",
   "execution_count": 15,
   "id": "a9009bfd",
   "metadata": {},
   "outputs": [],
   "source": [
    "features = features[:-1]"
   ]
  },
  {
   "cell_type": "code",
   "execution_count": 16,
   "id": "2b353b9e",
   "metadata": {},
   "outputs": [],
   "source": [
    "va = VectorAssembler(inputCols=features, outputCol=\"features\")"
   ]
  },
  {
   "cell_type": "code",
   "execution_count": 17,
   "id": "4d3cdc16",
   "metadata": {},
   "outputs": [],
   "source": [
    "va_df = va.transform(training)"
   ]
  },
  {
   "cell_type": "code",
   "execution_count": 18,
   "id": "629fd461",
   "metadata": {},
   "outputs": [],
   "source": [
    "va_df = va_df.select([\"features\", \"label\"])"
   ]
  },
  {
   "cell_type": "code",
   "execution_count": 19,
   "id": "e58b1588",
   "metadata": {},
   "outputs": [],
   "source": [
    "training = va_df"
   ]
  },
  {
   "cell_type": "code",
   "execution_count": 20,
   "id": "879a2ed3",
   "metadata": {},
   "outputs": [],
   "source": [
    "layers = [11, 8, 8, 8, 8, 10]"
   ]
  },
  {
   "cell_type": "code",
   "execution_count": 21,
   "id": "dc02163c",
   "metadata": {},
   "outputs": [],
   "source": [
    "from pyspark.ml.classification import DecisionTreeClassifier"
   ]
  },
  {
   "cell_type": "code",
   "execution_count": 22,
   "id": "a6dcdac8",
   "metadata": {},
   "outputs": [],
   "source": [
    "dt = DecisionTreeClassifier(featuresCol = 'features', labelCol = 'label', maxDepth =2)\n",
    "dtModel = dt.fit(training)"
   ]
  },
  {
   "cell_type": "code",
   "execution_count": 23,
   "id": "d12e05a7",
   "metadata": {},
   "outputs": [
    {
     "name": "stdout",
     "output_type": "stream",
     "text": [
      "Saving file to dsp.csv...\n"
     ]
    }
   ],
   "source": [
    "print(\"Saving file to {}...\".format(\"dsp.csv\"))"
   ]
  },
  {
   "cell_type": "code",
   "execution_count": 24,
   "id": "62ac924e",
   "metadata": {},
   "outputs": [],
   "source": [
    "dtModel.write().overwrite().save(\"dsp.csv\")"
   ]
  },
  {
   "cell_type": "code",
   "execution_count": null,
   "id": "514218d8",
   "metadata": {},
   "outputs": [],
   "source": []
  }
 ],
 "metadata": {
  "kernelspec": {
   "display_name": "Python 3 (ipykernel)",
   "language": "python",
   "name": "python3"
  },
  "language_info": {
   "codemirror_mode": {
    "name": "ipython",
    "version": 3
   },
   "file_extension": ".py",
   "mimetype": "text/x-python",
   "name": "python",
   "nbconvert_exporter": "python",
   "pygments_lexer": "ipython3",
   "version": "3.10.8"
  }
 },
 "nbformat": 4,
 "nbformat_minor": 5
}
